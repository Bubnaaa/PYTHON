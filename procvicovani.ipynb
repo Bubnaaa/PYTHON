{
 "cells": [
  {
   "cell_type": "markdown",
   "metadata": {},
   "source": [
    "# ÚKOL: NAJDI ALESPOŇ 3 ZPŮSOBY JAK NAPLNIT POLE N x N NÁHODNÝMI ČISLY  V ROZSAHU 0-10\n",
    "* Všechny kódy používají knihovnu random\n",
    "* V každém kódu je for cyklus na print:\n",
    "        for pole in pole:\n",
    "            print(pole)\n",
    "ten printuje všechny řádky pod sebou\n"
   ]
  },
  {
   "cell_type": "markdown",
   "metadata": {},
   "source": [
    "## Generované pole s for cykly\n",
    "* pole se generuje už s čísly\n",
    "* pod proměnnou **n** je číslo, které nám říká jak velké pole bude\n",
    "* 1. for cyklus se stará o vytvoření pole jako takového\n",
    "* 2. for cyklus se stará o vkládání náhodných čísel\n"
   ]
  },
  {
   "cell_type": "code",
   "execution_count": 3,
   "metadata": {},
   "outputs": [
    {
     "name": "stdout",
     "output_type": "stream",
     "text": [
      "[6, 7, 4, 3, 1]\n",
      "[5, 2, 8, 6, 10]\n",
      "[5, 1, 2, 4, 4]\n",
      "[8, 8, 3, 9, 7]\n",
      "[2, 2, 6, 6, 0]\n"
     ]
    }
   ],
   "source": [
    "import random\n",
    "n = 5\n",
    "pole = [[random.randint(0,10) \n",
    "         for _ in range(n)]\n",
    "         for _ in range(n)]\n",
    "for pole in pole:\n",
    "    print(pole)"
   ]
  },
  {
   "cell_type": "markdown",
   "metadata": {},
   "source": [
    "## Generované pole for cykly a appendem\n",
    "* kód funguje v podstatě na stejnéím principu jako kód číslo 1\n",
    "* do proměnné **n** se ukládá inteeger, který nám říká jak velké pole bude\n",
    "* 1. for cyklus se stará o vytvoření pole\n",
    "* 2. for cyklus se stará o vkládání náhodných čísel\n",
    "* .append se stará o vkládání čísel do pole"
   ]
  },
  {
   "cell_type": "code",
   "execution_count": 6,
   "metadata": {},
   "outputs": [
    {
     "name": "stdout",
     "output_type": "stream",
     "text": [
      "[0, 10, 1, 5, 8]\n",
      "[10, 1, 3, 3, 5]\n",
      "[6, 9, 6, 9, 2]\n",
      "[3, 9, 9, 3, 6]\n",
      "[3, 0, 6, 0, 2]\n"
     ]
    }
   ],
   "source": [
    "import random\n",
    "\n",
    "n = 5\n",
    "pole = []\n",
    "for i in range(n):\n",
    "    radek = []\n",
    "    for j in range(n):\n",
    "        radek.append(random.randint(0, 10))\n",
    "    pole.append(radek)\n",
    "for pole in pole:\n",
    "    print(pole)"
   ]
  },
  {
   "cell_type": "markdown",
   "metadata": {},
   "source": [
    "## Generované pole funkcí\n",
    "*kód funguje na principu 1. kódu, ale je uložen do funkce nahodne_pole, která má parametr **n**\n",
    "* **n** nám říká jak velké pole bude, a je zadáno až na konci samotného kódu"
   ]
  },
  {
   "cell_type": "code",
   "execution_count": 9,
   "metadata": {},
   "outputs": [
    {
     "name": "stdout",
     "output_type": "stream",
     "text": [
      "[0, 3, 5, 10, 9]\n",
      "[9, 8, 4, 1, 6]\n",
      "[6, 10, 2, 7, 8]\n",
      "[8, 7, 0, 6, 7]\n",
      "[0, 4, 3, 4, 5]\n"
     ]
    }
   ],
   "source": [
    "import random\n",
    "\n",
    "def nahodne_pole(n):\n",
    "    return [[random.randint(0, 10) for _ in range(n)] for _ in range(n)]\n",
    "\n",
    "pole = nahodne_pole(5)\n",
    "for pole in pole:\n",
    "    print(pole)"
   ]
  },
  {
   "cell_type": "markdown",
   "metadata": {},
   "source": []
  }
 ],
 "metadata": {
  "kernelspec": {
   "display_name": "Python 3",
   "language": "python",
   "name": "python3"
  },
  "language_info": {
   "codemirror_mode": {
    "name": "ipython",
    "version": 3
   },
   "file_extension": ".py",
   "mimetype": "text/x-python",
   "name": "python",
   "nbconvert_exporter": "python",
   "pygments_lexer": "ipython3",
   "version": "3.12.6"
  }
 },
 "nbformat": 4,
 "nbformat_minor": 2
}
