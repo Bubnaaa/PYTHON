{
 "cells": [
  {
   "cell_type": "markdown",
   "metadata": {},
   "source": [
    "# ÚKOL: NAJDI ALESPOŇ 3 ZPŮSOBY JAK NAPLNIT POLE N x N NÁHODNÝMI ČISLY  V ROZSAHU 0-10\n",
    "* Všechny kódy používají knihovnu random\n"
   ]
  },
  {
   "cell_type": "markdown",
   "metadata": {},
   "source": [
    "## Generované pole s for cykly\n",
    "* pole se generuje už s čísly\n",
    "* pod proměnnou **n** je číslo, které nám říká jak velké pole bude\n",
    "* 1. for cyklus se stará o vytvoření pole jako takového\n",
    "* 2. for cyklus se stará o vkládání náhodných čísel\n"
   ]
  },
  {
   "cell_type": "code",
   "execution_count": 10,
   "metadata": {},
   "outputs": [
    {
     "name": "stdout",
     "output_type": "stream",
     "text": [
      "[[3, 2, 4, 1, 7], [8, 3, 5, 6, 7], [1, 8, 7, 10, 6], [5, 8, 9, 9, 0], [3, 8, 9, 6, 10]]\n"
     ]
    }
   ],
   "source": [
    "import random\n",
    "n = 5\n",
    "pole = [[random.randint(0,10) \n",
    "         for _ in range(n)]\n",
    "         for _ in range(n)]\n",
    "print(pole)"
   ]
  },
  {
   "cell_type": "markdown",
   "metadata": {},
   "source": [
    "## Generované pole for cykly a appendem\n",
    "* kód funguje v podstatě na stejnéím principu jako kód číslo 1\n",
    "* na vstupu do proměnné **n** se ukládá inteeger, který nám říká jak velké pole bude\n",
    "* 1. for cyklus se stará o vytvoření pole\n",
    "* 2. for cyklus se stará o vkládání náhodných čísel"
   ]
  },
  {
   "cell_type": "code",
   "execution_count": 3,
   "metadata": {},
   "outputs": [
    {
     "name": "stdout",
     "output_type": "stream",
     "text": [
      "[[6, 10, 8, 1, 1], [7, 2, 2, 7, 8], [9, 8, 8, 4, 9], [3, 7, 8, 6, 5], [1, 3, 10, 7, 7]]\n",
      "[[6, 10, 8, 1, 1], [7, 2, 2, 7, 8], [9, 8, 8, 4, 9], [3, 7, 8, 6, 5], [1, 3, 10, 7, 7]]\n",
      "[[6, 10, 8, 1, 1], [7, 2, 2, 7, 8], [9, 8, 8, 4, 9], [3, 7, 8, 6, 5], [1, 3, 10, 7, 7]]\n",
      "[[6, 10, 8, 1, 1], [7, 2, 2, 7, 8], [9, 8, 8, 4, 9], [3, 7, 8, 6, 5], [1, 3, 10, 7, 7]]\n",
      "[[6, 10, 8, 1, 1], [7, 2, 2, 7, 8], [9, 8, 8, 4, 9], [3, 7, 8, 6, 5], [1, 3, 10, 7, 7]]\n"
     ]
    }
   ],
   "source": [
    "import random\n",
    "\n",
    "n = 5\n",
    "pole = []\n",
    "for i in range(n):\n",
    "    radek = []\n",
    "    for j in range(n):\n",
    "        radek.append(random.randint(0, 10))\n",
    "    pole.append(radek)\n",
    "for i in pole:\n",
    "    print(pole)"
   ]
  },
  {
   "cell_type": "code",
   "execution_count": 12,
   "metadata": {},
   "outputs": [
    {
     "name": "stdout",
     "output_type": "stream",
     "text": [
      "[[1, 0, 7, 0, 5], [1, 8, 8, 8, 2], [5, 7, 8, 4, 3], [2, 4, 9, 7, 5], [10, 4, 1, 1, 7]]\n"
     ]
    }
   ],
   "source": [
    "import random\n",
    "\n",
    "def nahodne_pole(n):\n",
    "    return [[random.randint(0, 10) for _ in range(n)] for _ in range(n)]\n",
    "\n",
    "pole = nahodne_pole(5)\n",
    "print(pole)"
   ]
  },
  {
   "cell_type": "markdown",
   "metadata": {},
   "source": []
  }
 ],
 "metadata": {
  "kernelspec": {
   "display_name": "Python 3",
   "language": "python",
   "name": "python3"
  },
  "language_info": {
   "codemirror_mode": {
    "name": "ipython",
    "version": 3
   },
   "file_extension": ".py",
   "mimetype": "text/x-python",
   "name": "python",
   "nbconvert_exporter": "python",
   "pygments_lexer": "ipython3",
   "version": "3.12.6"
  }
 },
 "nbformat": 4,
 "nbformat_minor": 2
}
